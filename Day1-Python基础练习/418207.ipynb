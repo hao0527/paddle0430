{
 "cells": [
  {
   "cell_type": "markdown",
   "metadata": {
    "collapsed": false
   },
   "source": [
    "### 作业一：输出 9*9 乘法口诀表(注意格式)\n",
    "\n",
    "注意：提交作业时要有代码执行输出结果。"
   ]
  },
  {
   "cell_type": "code",
   "execution_count": 1,
   "metadata": {
    "collapsed": false
   },
   "outputs": [
    {
     "name": "stdout",
     "output_type": "stream",
     "text": [
      "1*1=1\t\n",
      "1*2=2\t2*2=4\t\n",
      "1*3=3\t2*3=6\t3*3=9\t\n",
      "1*4=4\t2*4=8\t3*4=12\t4*4=16\t\n",
      "1*5=5\t2*5=10\t3*5=15\t4*5=20\t5*5=25\t\n",
      "1*6=6\t2*6=12\t3*6=18\t4*6=24\t5*6=30\t6*6=36\t\n",
      "1*7=7\t2*7=14\t3*7=21\t4*7=28\t5*7=35\t6*7=42\t7*7=49\t\n",
      "1*8=8\t2*8=16\t3*8=24\t4*8=32\t5*8=40\t6*8=48\t7*8=56\t8*8=64\t\n",
      "1*9=9\t2*9=18\t3*9=27\t4*9=36\t5*9=45\t6*9=54\t7*9=63\t8*9=72\t9*9=81\t\n"
     ]
    }
   ],
   "source": [
    "def table():\n",
    "    #在这里写下您的乘法口诀表代码吧！\n",
    "    for i in range(1, 10):\n",
    "        for j in range(1, i+1):\n",
    "            print('{}*{}={}'.format(j, i, j * i), end='\\t')\n",
    "        print('')\n",
    "\n",
    "\n",
    "if __name__ == '__main__':\n",
    "    table()"
   ]
  },
  {
   "cell_type": "markdown",
   "metadata": {
    "collapsed": false
   },
   "source": [
    "### 作业二：查找特定名称文件\n",
    "遍历”Day1-homework”目录下文件；\n",
    "\n",
    "找到文件名包含“2020”的文件；\n",
    "\n",
    "将文件名保存到数组result中；\n",
    "\n",
    "按照序号、文件名分行打印输出。\n",
    "\n",
    "注意：提交作业时要有代码执行输出结果。"
   ]
  },
  {
   "cell_type": "code",
   "execution_count": 2,
   "metadata": {
    "collapsed": false
   },
   "outputs": [
    {
     "name": "stdout",
     "output_type": "stream",
     "text": [
      "1\tnew2020.txt\n",
      "2\t182020.doc\n",
      "3\t04:22:2020.txt\n"
     ]
    }
   ],
   "source": [
    "#导入OS模块\n",
    "import os\n",
    "#待搜索的目录路径\n",
    "path = \"Day1-homework\"\n",
    "#待搜索的名称\n",
    "filename = \"2020\"\n",
    "#定义保存结果的数组\n",
    "result = []\n",
    "\n",
    "def findfiles():\n",
    "    #在这里写下您的查找文件代码吧！\n",
    "    for root, dirs, files in os.walk(path):\n",
    "        for name in files:\n",
    "            if(filename in name):\n",
    "                result.append(name)\n",
    "    for i in range(len(result)):\n",
    "        print(str(i+1)+'\\t'+result[i])\n",
    "\n",
    "if __name__ == '__main__':\n",
    "    findfiles()"
   ]
  }
 ],
 "metadata": {
  "kernelspec": {
   "display_name": "PaddlePaddle 1.7.1 (Python 3.5)",
   "language": "python",
   "name": "py35-paddle1.2.0"
  },
  "language_info": {
   "codemirror_mode": {
    "name": "ipython",
    "version": 3
   },
   "file_extension": ".py",
   "mimetype": "text/x-python",
   "name": "python",
   "nbconvert_exporter": "python",
   "pygments_lexer": "ipython3",
   "version": "3.7.4"
  }
 },
 "nbformat": 4,
 "nbformat_minor": 1
}
